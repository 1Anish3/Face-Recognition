{
 "cells": [
  {
   "cell_type": "code",
   "execution_count": 1,
   "id": "1920f553",
   "metadata": {},
   "outputs": [],
   "source": [
    "import cv2"
   ]
  },
  {
   "cell_type": "code",
   "execution_count": 2,
   "id": "0a39012f",
   "metadata": {},
   "outputs": [],
   "source": [
    "face_cascade=cv2.CascadeClassifier(\"haarcascade_frontalface_default.xml\")"
   ]
  },
  {
   "cell_type": "code",
   "execution_count": null,
   "id": "e4100b7b",
   "metadata": {},
   "outputs": [],
   "source": []
  },
  {
   "cell_type": "code",
   "execution_count": 3,
   "id": "5b0eb6ef",
   "metadata": {},
   "outputs": [],
   "source": [
    "image = cv2.imread('photo_1.webp',0)\n",
    "image1=cv2.imread('photo_1.webp')"
   ]
  },
  {
   "cell_type": "code",
   "execution_count": null,
   "id": "55a6bca6",
   "metadata": {},
   "outputs": [],
   "source": [
    "cv2.imshow('IMAGE',image)\n",
    "cv2.waitKey(0)"
   ]
  },
  {
   "cell_type": "code",
   "execution_count": null,
   "id": "49b98efb",
   "metadata": {},
   "outputs": [],
   "source": [
    "faces=face_cascade.detectMultiScale(image,scaleFactor=1.5,minNeighbors=7)"
   ]
  },
  {
   "cell_type": "code",
   "execution_count": null,
   "id": "a41b49eb",
   "metadata": {},
   "outputs": [],
   "source": [
    "for x,y,w,h in faces:\n",
    "    image1=cv2.rectangle(image1,(x,y),(x+w,y+h),(0,255,0),3)"
   ]
  },
  {
   "cell_type": "code",
   "execution_count": null,
   "id": "e801b87a",
   "metadata": {},
   "outputs": [],
   "source": []
  },
  {
   "cell_type": "code",
   "execution_count": null,
   "id": "bd96c059",
   "metadata": {},
   "outputs": [],
   "source": [
    "resized=cv2.resize(image1,(500,500))"
   ]
  },
  {
   "cell_type": "code",
   "execution_count": null,
   "id": "718fa302",
   "metadata": {},
   "outputs": [],
   "source": [
    "cv2.imshow('REC',resized)\n",
    "cv2.waitKey(0)\n",
    "cv2.destroyAllWindows()"
   ]
  },
  {
   "cell_type": "code",
   "execution_count": null,
   "id": "92bb76d6",
   "metadata": {},
   "outputs": [],
   "source": [
    "#Try with other images as well"
   ]
  },
  {
   "cell_type": "code",
   "execution_count": null,
   "id": "2c348b9f",
   "metadata": {},
   "outputs": [],
   "source": []
  }
 ],
 "metadata": {
  "kernelspec": {
   "display_name": "Python 3 (ipykernel)",
   "language": "python",
   "name": "python3"
  },
  "language_info": {
   "codemirror_mode": {
    "name": "ipython",
    "version": 3
   },
   "file_extension": ".py",
   "mimetype": "text/x-python",
   "name": "python",
   "nbconvert_exporter": "python",
   "pygments_lexer": "ipython3",
   "version": "3.11.5"
  }
 },
 "nbformat": 4,
 "nbformat_minor": 5
}
